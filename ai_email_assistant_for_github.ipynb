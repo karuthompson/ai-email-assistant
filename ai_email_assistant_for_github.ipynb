{
  "nbformat": 4,
  "nbformat_minor": 0,
  "metadata": {
    "colab": {
      "provenance": []
    },
    "kernelspec": {
      "name": "python3",
      "display_name": "Python 3"
    },
    "language_info": {
      "name": "python"
    }
  },
  "cells": [
    {
      "cell_type": "markdown",
      "source": [
        "# Email AI Assistant\n"
      ],
      "metadata": {
        "id": "cVFvLdEwfZnP"
      }
    },
    {
      "cell_type": "markdown",
      "source": [
        "## Setup\n"
      ],
      "metadata": {
        "id": "xjeB2XJGfdiL"
      }
    },
    {
      "cell_type": "code",
      "source": [
        "!pip install openai\n",
        "!pip install --upgrade google-api-python-client==1.7.2 \\\n",
        "    google-auth==1.8.0 \\\n",
        "    google-auth-httplib2==0.0.3 \\\n",
        "    google-auth-oauthlib==0.4.1\n"
      ],
      "metadata": {
        "id": "R7NVZu81fg9q"
      },
      "execution_count": null,
      "outputs": []
    },
    {
      "cell_type": "markdown",
      "source": [
        "## OpenAI Functions\n"
      ],
      "metadata": {
        "id": "wUxcr2Yhfjjq"
      }
    },
    {
      "cell_type": "code",
      "source": [
        "import openai\n",
        "import getpass\n",
        "openai.api_key = getpass.getpass(\"OPENAI_API_KEY\")\n",
        "\n",
        "def summarize_email(email_text):\n",
        "    prompt = f\"Summarize the following email in 2-3 sentences:\\n\\n{email_text}\"\n",
        "    response = openai.chat.completions.create(\n",
        "        model=\"gpt-3.5-turbo\",\n",
        "        messages=[{\"role\": \"user\", \"content\": prompt}]\n",
        "    )\n",
        "    return response.choices[0].message.content\n",
        "\n",
        "def extract_action_items(email_text):\n",
        "    prompt = f\"Based on this email, what actions need to be taken? List them clearly:\\n\\n{email_text}\"\n",
        "    response = openai.chat.completions.create(\n",
        "        model=\"gpt-3.5-turbo\",\n",
        "        messages=[{\"role\": \"user\", \"content\": prompt}]\n",
        "    )\n",
        "    return response.choices[0].message.content\n",
        "\n",
        "def draft_reply(email_text):\n",
        "    prompt = f\"Write a professional reply to this email that addresses all concerns:\\n\\n{email_text}\"\n",
        "    response = openai.chat.completions.create(\n",
        "        model=\"gpt-3.5-turbo\",\n",
        "        messages=[{\"role\": \"user\", \"content\": prompt}]\n",
        "    )\n",
        "    return response.choices[0].message.content\n"
      ],
      "metadata": {
        "id": "-TPDjIr0fk1E"
      },
      "execution_count": null,
      "outputs": []
    },
    {
      "cell_type": "markdown",
      "source": [
        "## Upload Gmail API Credentials\n"
      ],
      "metadata": {
        "id": "0TmLuezFfoIt"
      }
    },
    {
      "cell_type": "code",
      "source": [
        "from google.colab import files\n",
        "uploaded = files.upload()\n"
      ],
      "metadata": {
        "id": "7KUTEGzsfqOc"
      },
      "execution_count": null,
      "outputs": []
    },
    {
      "cell_type": "markdown",
      "source": [
        "## Gmail API Authentication\n"
      ],
      "metadata": {
        "id": "KIZWfRFmfr6K"
      }
    },
    {
      "cell_type": "code",
      "source": [
        "import os\n",
        "import base64\n",
        "from google.auth.transport.requests import Request\n",
        "from google.oauth2.credentials import Credentials\n",
        "from google_auth_oauthlib.flow import InstalledAppFlow\n",
        "from googleapiclient.discovery import build\n",
        "from bs4 import BeautifulSoup\n",
        "\n",
        "SCOPES = ['https://www.googleapis.com/auth/gmail.readonly']\n",
        "\n",
        "def gmail_authenticate():\n",
        "    creds = None\n",
        "    if os.path.exists('token.json'):\n",
        "        creds = Credentials.from_authorized_user_file('token.json', SCOPES)\n",
        "    if not creds or not creds.valid:\n",
        "        if creds and creds.expired and creds.refresh_token:\n",
        "            creds.refresh(Request())\n",
        "        else:\n",
        "            flow = InstalledAppFlow.from_client_secrets_file('credentials.json', SCOPES)\n",
        "            creds = flow.run_console()\n",
        "        with open('token.json', 'w') as token:\n",
        "            token.write(creds.to_json())\n",
        "    return build('gmail', 'v1', credentials=creds)\n",
        "\n",
        "service = gmail_authenticate()\n"
      ],
      "metadata": {
        "id": "08hhMX76ftNt"
      },
      "execution_count": null,
      "outputs": []
    },
    {
      "cell_type": "markdown",
      "source": [
        "## Fetch Unread Emails\n"
      ],
      "metadata": {
        "id": "LDpBLKgTfvLj"
      }
    },
    {
      "cell_type": "code",
      "source": [
        "def get_unread_emails(service, max_results=5):\n",
        "    results = service.users().messages().list(userId='me', labelIds=['INBOX', 'UNREAD'], maxResults=max_results).execute()\n",
        "    messages = results.get('messages', [])\n",
        "    email_texts = []\n",
        "\n",
        "    for msg in messages:\n",
        "        msg_data = service.users().messages().get(userId='me', id=msg['id']).execute()\n",
        "        payload = msg_data['payload']\n",
        "        parts = payload.get('parts', [])\n",
        "        data = ''\n",
        "\n",
        "        if 'data' in payload.get('body', {}):\n",
        "            data = payload['body']['data']\n",
        "        elif parts:\n",
        "            for part in parts:\n",
        "                if part.get('mimeType') == 'text/plain':\n",
        "                    data = part['body']['data']\n",
        "                    break\n",
        "\n",
        "        if data:\n",
        "            decoded = base64.urlsafe_b64decode(data).decode('utf-8')\n",
        "            email_texts.append(decoded)\n",
        "\n",
        "    return email_texts\n"
      ],
      "metadata": {
        "id": "iGvfj5xCfwV-"
      },
      "execution_count": null,
      "outputs": []
    },
    {
      "cell_type": "markdown",
      "source": [
        "## Run AI Assistant on Emails\n"
      ],
      "metadata": {
        "id": "J7AI-mlKfyeh"
      }
    },
    {
      "cell_type": "code",
      "source": [
        "emails = get_unread_emails(service)\n",
        "\n",
        "for i, email_text in enumerate(emails):\n",
        "    print(\"=\"*50)\n",
        "    print(f\"Email #{i+1}\\n\")\n",
        "    summary = summarize_email(email_text)\n",
        "    actions = extract_action_items(email_text)\n",
        "    reply = draft_reply(email_text)\n",
        "    print(\"Summary:\\n\", summary)\n",
        "    print(\"\\nAction Items:\\n\", actions)\n",
        "    print(\"\\nDrafted Reply:\\n\", reply)\n",
        "    print(\"=\"*50 + \"\\n\")\n"
      ],
      "metadata": {
        "id": "8N6VEHlffy7z"
      },
      "execution_count": null,
      "outputs": []
    }
  ]
}